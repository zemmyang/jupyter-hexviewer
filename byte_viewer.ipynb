{
 "cells": [
  {
   "cell_type": "code",
   "execution_count": 1,
   "metadata": {},
   "outputs": [],
   "source": [
    "sample_file = r\"0000000d.ps3t\"  # small file\n",
    "large_sample_file = r\"dxhr\\bigfile.000\"  # obscenely large file"
   ]
  },
  {
   "cell_type": "code",
   "execution_count": 2,
   "metadata": {},
   "outputs": [],
   "source": [
    "class ByteViewer:\n",
    "    config: dict = {\n",
    "                \"bytes_per_sep\": 4,\n",
    "                \"bytes_per_row\": 16,\n",
    "\n",
    "                \"startrow\": 0x0,  # not completely tested\n",
    "                \"nrows\": 0xF,\n",
    "\n",
    "                \"uppercase\": True,\n",
    "\n",
    "                \"swap\": False,\n",
    "                \"format\": \"L\",  # relevant if swap is true. see documentation on struct for the other fmt codes\n",
    "\n",
    "                \"show_offset_row\": False,  # not implemented\n",
    "                \"show_offset_column\": True,\n",
    "                \"show_decoded_column\": True,  # not implemented\n",
    "                \"encoding\": \"latin-1\",  # not implemented \n",
    "            }\n",
    "    colors: dict = {\n",
    "        # must be CSS-safe color strings\n",
    "        \"zeros\": \"rgb(125,125,125)\",\n",
    "        \"offset\": \"rgb(125,125,125)\",\n",
    "        \"decoded\": \"rgb(125,125,125)\",\n",
    "    }\n",
    "\n",
    "    def __init__(self, data: bytes):\n",
    "        self.data: bytes = data\n",
    "\n",
    "    @classmethod\n",
    "    def from_path(cls, path):\n",
    "        with open(path, 'rb') as f:\n",
    "            start = cls.config[\"startrow\"] * cls.config[\"bytes_per_row\"]\n",
    "            length = cls.config[\"nrows\"] * cls.config[\"bytes_per_row\"]\n",
    "            f.seek(start)\n",
    "            return cls(f.read(length))\n",
    "\n",
    "    def _swap_data(self, data: bytes) -> bytes:\n",
    "        from array import array\n",
    "        import struct\n",
    "        t = array(self.config[\"format\"], data)\n",
    "        t.byteswap()\n",
    "        return b\"\".join([struct.pack(self.config[\"format\"], i) for i in t])\n",
    "\n",
    "    def _repr_html_(self):\n",
    "        out_html = '<p style=\"font-family:monospace;\">'\n",
    "\n",
    "        d = self._swap_data(self.data) if self.config[\"swap\"] else self.data\n",
    "\n",
    "        # separate the bytes per chunk\n",
    "        byte_sep_text = d.hex(\" \", self.config[\"bytes_per_sep\"])\n",
    "\n",
    "        # turn uppercase if that's in the config\n",
    "        byte_sep_text = byte_sep_text.upper() if self.config[\"uppercase\"] else byte_sep_text\n",
    "\n",
    "        chunks_per_row = self.config[\"bytes_per_row\"]//self.config[\"bytes_per_sep\"]\n",
    "\n",
    "        sep_text_as_list = byte_sep_text.split()\n",
    "\n",
    "        text_per_row = []\n",
    "        for k in range(0, len(byte_sep_text.split()), chunks_per_row):\n",
    "            text_per_row.append(\" \".join(sep_text_as_list[k:k+chunks_per_row]))\n",
    "\n",
    "        for row_num, row in enumerate(text_per_row):\n",
    "            rnum = row_num + self.config[\"startrow\"]\n",
    "            out_html += f\"<span style='color: {self.colors['offset']}'>{hex(rnum)[2:].zfill(8)}</span>: {row} <br />\"\n",
    "\n",
    "            if row_num == self.config['nrows']:\n",
    "                break\n",
    "\n",
    "        out_html += \"</p>\"\n",
    "        return out_html"
   ]
  },
  {
   "cell_type": "code",
   "execution_count": 3,
   "metadata": {},
   "outputs": [
    {
     "data": {
      "text/html": [
       "<p style=\"font-family:monospace;\"><span style='color: rgb(125,125,125)'>00000000</span>: 50533354 0002AAB8 00070100 860A0200 <br /><span style='color: rgb(125,125,125)'>00000001</span>: 0000AAE4 02000200 00010000 00000000 <br /><span style='color: rgb(125,125,125)'>00000002</span>: 00000000 4D94AA7B AAAA0A6A 6D94AC7B <br /><span style='color: rgb(125,125,125)'>00000003</span>: AA2A02D5 6E94EB83 8A8A00F5 8D9C0D8C <br /><span style='color: rgb(125,125,125)'>00000004</span>: 7FA30A55 6D940D8C AB0800D5 8E9C0C84 <br /><span style='color: rgb(125,125,125)'>00000005</span>: EFAA80D5 8E9C0C84 EFA2A27D 8E940C84 <br /><span style='color: rgb(125,125,125)'>00000006</span>: BAA202D5 8E9C0C84 AEA2025F 8D9C2D8C <br /><span style='color: rgb(125,125,125)'>00000007</span>: BE2280DD 8E9C2D8C 7BAA8277 8D940C84 <br /><span style='color: rgb(125,125,125)'>00000008</span>: BB8A0257 8E9C2C8C FBEB8055 8E9CEC83 <br /><span style='color: rgb(125,125,125)'>00000009</span>: AA2A807D 8E9CEC83 AA020055 8E9CED83 <br /><span style='color: rgb(125,125,125)'>0000000a</span>: A82200DD 8D9C0D8C AE0220FD 8E9C4D8C <br /><span style='color: rgb(125,125,125)'>0000000b</span>: DFAA00FF 8E9C4D8C FAA20A5D 8D9C2D8C <br /><span style='color: rgb(125,125,125)'>0000000c</span>: FA0A80DF 8E9C2C8C BEAAA05D 8E9C0C8C <br /><span style='color: rgb(125,125,125)'>0000000d</span>: EAAA8075 8D940D84 2FA8A07D 6D940C8C <br /><span style='color: rgb(125,125,125)'>0000000e</span>: A8A88055 6D94EC83 AABEB0F7 6D94EC83 <br /><span style='color: rgb(125,125,125)'>0000000f</span>: BAAA8855 6D9CEC83 BAAA8A55 6D94CB83 <br /></p>"
      ],
      "text/plain": [
       "<__main__.ByteViewer at 0x21d1b95b460>"
      ]
     },
     "execution_count": 3,
     "metadata": {},
     "output_type": "execute_result"
    }
   ],
   "source": [
    "with open(sample_file, 'rb') as f:\n",
    "    bv = ByteViewer(f.read())\n",
    "\n",
    "bv"
   ]
  },
  {
   "cell_type": "code",
   "execution_count": 4,
   "metadata": {},
   "outputs": [
    {
     "data": {
      "text/html": [
       "<p style=\"font-family:monospace;\"><span style='color: rgb(125,125,125)'>00000000</span>: 0000F07F 70632D77 00000000 00000000 <br /><span style='color: rgb(125,125,125)'>00000001</span>: 00000000 00000000 00000000 00000000 <br /><span style='color: rgb(125,125,125)'>00000002</span>: 00000000 00000000 00000000 00000000 <br /><span style='color: rgb(125,125,125)'>00000003</span>: 00000000 00000000 00000000 00000000 <br /><span style='color: rgb(125,125,125)'>00000004</span>: 00000000 663E0000 5F980200 A66D0300 <br /><span style='color: rgb(125,125,125)'>00000005</span>: A0E10400 8F630600 70390800 A6090B00 <br /><span style='color: rgb(125,125,125)'>00000006</span>: 36521300 4DD81400 14871500 3A411800 <br /><span style='color: rgb(125,125,125)'>00000007</span>: AFAC1A00 CD0F1F00 E0DA2300 F9142A00 <br /><span style='color: rgb(125,125,125)'>00000008</span>: 911C2A00 832C2A00 85B02A00 CFB82A00 <br /><span style='color: rgb(125,125,125)'>00000009</span>: 55022C00 EC8C3400 754B3800 84AF3B00 <br /><span style='color: rgb(125,125,125)'>0000000a</span>: AA7A4000 69FE4400 AAC34A00 F23B5100 <br /><span style='color: rgb(125,125,125)'>0000000b</span>: 90485500 981F5600 3B225800 64B05A00 <br /><span style='color: rgb(125,125,125)'>0000000c</span>: 08155C00 C1325E00 E4DA5E00 349F5F00 <br /><span style='color: rgb(125,125,125)'>0000000d</span>: 9CAE6100 D90F6700 89686800 79D87300 <br /><span style='color: rgb(125,125,125)'>0000000e</span>: 17787600 3B767C00 A4A38500 87AB8800 <br /></p>"
      ],
      "text/plain": [
       "<__main__.ByteViewer at 0x21d1b95a9b0>"
      ]
     },
     "execution_count": 4,
     "metadata": {},
     "output_type": "execute_result"
    }
   ],
   "source": [
    "ByteViewer.from_path(large_sample_file)"
   ]
  }
 ],
 "metadata": {
  "kernelspec": {
   "display_name": "BlankityBlankityBlank",
   "language": "python",
   "name": "python3"
  },
  "language_info": {
   "codemirror_mode": {
    "name": "ipython",
    "version": 3
   },
   "file_extension": ".py",
   "mimetype": "text/x-python",
   "name": "python",
   "nbconvert_exporter": "python",
   "pygments_lexer": "ipython3",
   "version": "3.10.8"
  },
  "orig_nbformat": 4
 },
 "nbformat": 4,
 "nbformat_minor": 2
}
